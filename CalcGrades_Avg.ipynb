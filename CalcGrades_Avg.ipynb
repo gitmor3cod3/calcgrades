{
  "metadata": {
    "language_info": {
      "codemirror_mode": {
        "name": "python",
        "version": 3
      },
      "file_extension": ".py",
      "mimetype": "text/x-python",
      "name": "python",
      "nbconvert_exporter": "python",
      "pygments_lexer": "ipython3",
      "version": "3.8"
    },
    "kernelspec": {
      "name": "python",
      "display_name": "Python (Pyodide)",
      "language": "python"
    }
  },
  "nbformat_minor": 4,
  "nbformat": 4,
  "cells": [
    {
      "cell_type": "markdown",
      "source": "<h4><b>Calculus Grades</b><h4>",
      "metadata": {}
    },
    {
      "cell_type": "code",
      "source": "#Calculus Grades\nCalculus_Grades={'Jayden':98,'Anton':93,'Richard':94,'Adam':100,'Nathaniel':93}\nCalculus_Grades['Caleb']=44\nif 'Anton' in Calculus_Grades: print(True)\nif 'Jayden' in Calculus_Grades: print(True)\nif 'Richard' in Calculus_Grades: print(True)\nif 'Nathaniel' in Calculus_Grades:print(True)\nif 'Caleb' in Calculus_Grades: print(True)\n#New Table\nCalculus_Grades\nCalculus_GradesAvg=sum(Calculus_Grades.values())/len(Calculus_Grades)\nprint(\"The calculus grade average is\", Calculus_GradesAvg, 'because of Caleb bringing it down.')",
      "metadata": {
        "trusted": true
      },
      "execution_count": 129,
      "outputs": [
        {
          "name": "stdout",
          "text": "True\nTrue\nTrue\nTrue\nTrue\nThe calculus grade average is 87.0 because of Caleb bringing it down.\n",
          "output_type": "stream"
        }
      ]
    }
  ]
}